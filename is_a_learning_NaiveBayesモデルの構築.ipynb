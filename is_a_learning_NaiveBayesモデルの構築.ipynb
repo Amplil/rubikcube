{
  "nbformat": 4,
  "nbformat_minor": 0,
  "metadata": {
    "orig_nbformat": 2,
    "kernelspec": {
      "name": "python3",
      "display_name": "Python 3"
    },
    "colab": {
      "name": "is-a_learning_NaiveBayesモデルの構築.ipynb",
      "provenance": [],
      "collapsed_sections": [],
      "toc_visible": true,
      "include_colab_link": true
    }
  },
  "cells": [
    {
      "cell_type": "markdown",
      "metadata": {
        "id": "view-in-github",
        "colab_type": "text"
      },
      "source": [
        "<a href=\"https://colab.research.google.com/github/Amplil/rubikcube/blob/master/is_a_learning_NaiveBayes%E3%83%A2%E3%83%87%E3%83%AB%E3%81%AE%E6%A7%8B%E7%AF%89.ipynb\" target=\"_parent\"><img src=\"https://colab.research.google.com/assets/colab-badge.svg\" alt=\"Open In Colab\"/></a>"
      ]
    },
    {
      "cell_type": "markdown",
      "metadata": {
        "id": "rGS-w5myeq9O"
      },
      "source": [
        "#初期化"
      ]
    },
    {
      "cell_type": "code",
      "metadata": {
        "id": "ZHF4ulnqUHbw"
      },
      "source": [
        "import pandas as pd\n",
        "import numpy as np"
      ],
      "execution_count": 2,
      "outputs": []
    },
    {
      "cell_type": "code",
      "metadata": {
        "id": "P8zqggYawZgv"
      },
      "source": [
        "class sentence(list): # オブジェクトでリスト表記が使えるようにする\r\n",
        "    common_dict={}\r\n",
        "    last_value=0\r\n",
        "    def __init__(self,original_sentence):\r\n",
        "        self.extend(original_sentence.split()) # リストの連結\r\n",
        "    def __eq__(self,other_sentence):\r\n",
        "        common=[]\r\n",
        "        for i,l1 in enumerate(self):\r\n",
        "            for j,l2 in enumerate(other_sentence):\r\n",
        "                if(l1==l2):\r\n",
        "                    common.append([i,j])\r\n",
        "                    sentence.add_common(str([i,j])) # 共通部分を個別に辞書登録\r\n",
        "        return str(common)\r\n",
        "    @classmethod\r\n",
        "    def add_common(cls,common):\r\n",
        "        if cls.common_dict.get(common)==None:\r\n",
        "            cls.last_value+=1\r\n",
        "            cls.common_dict[common]=cls.last_value\r\n",
        "        return cls.common_dict\r\n",
        "    \r\n",
        "class SentenceUnit(list): # オブジェクトでリスト表記が使えるようにする\r\n",
        "    word_dict={}\r\n",
        "    last_value=0\r\n",
        "    def __init__(self,sentence_list):\r\n",
        "        [self.append(sentence(s)) for s in sentence_list] # リスト内包表記 \r\n",
        "        for s in self:\r\n",
        "            for word in s:\r\n",
        "                SentenceUnit.add_word(word)\r\n",
        "    @classmethod\r\n",
        "    def add_word(cls,word):\r\n",
        "        if cls.word_dict.get(word)==None:\r\n",
        "            cls.last_value+=1\r\n",
        "            cls.word_dict[word]=cls.last_value\r\n",
        "        return cls.word_dict\r\n",
        "\r\n",
        "# ナイーブベイズ\r\n",
        "def pword_cat(word,cat):\r\n",
        "    catBoW=data[data['a[n][0]'].isin([cat])] # category BoW\r\n",
        "    return (catBoW[word].sum()/catBoW.sum(axis=1).sum())\r\n",
        "def pcat(cat):\r\n",
        "    catBoW=data[data['a[n][0]'].isin([cat])] # category BoW\r\n",
        "    return len(catBoW.index)/len(data.index)"
      ],
      "execution_count": 3,
      "outputs": []
    },
    {
      "cell_type": "markdown",
      "metadata": {
        "id": "gP1ckHHpvkyE"
      },
      "source": [
        "## 前提premise(知識)は最初から読み込む"
      ]
    },
    {
      "cell_type": "code",
      "metadata": {
        "colab": {
          "base_uri": "https://localhost:8080/"
        },
        "id": "McsQ_LiRvkO0",
        "outputId": "eea6ef56-c1ce-4b25-d3af-2703959ab19d"
      },
      "source": [
        "p=SentenceUnit(['John is-a human','bird is-a animal','human is-a animal'])\r\n",
        "p"
      ],
      "execution_count": 4,
      "outputs": [
        {
          "output_type": "execute_result",
          "data": {
            "text/plain": [
              "[['John', 'is-a', 'human'],\n",
              " ['bird', 'is-a', 'animal'],\n",
              " ['human', 'is-a', 'animal']]"
            ]
          },
          "metadata": {
            "tags": []
          },
          "execution_count": 4
        }
      ]
    },
    {
      "cell_type": "markdown",
      "metadata": {
        "id": "5sfI630Vs95v"
      },
      "source": [
        "## 入力: 質問（question）"
      ]
    },
    {
      "cell_type": "code",
      "metadata": {
        "id": "dCVQrJS0UAZk",
        "colab": {
          "base_uri": "https://localhost:8080/"
        },
        "outputId": "88f4d2e1-5d44-464e-a412-2d2cedb9f1ab"
      },
      "source": [
        "q=SentenceUnit(['is John human ?','is bird animal ?','is not John human ?','is not bird animal ?'])\n",
        "q"
      ],
      "execution_count": 5,
      "outputs": [
        {
          "output_type": "execute_result",
          "data": {
            "text/plain": [
              "[['is', 'John', 'human', '?'],\n",
              " ['is', 'bird', 'animal', '?'],\n",
              " ['is', 'not', 'John', 'human', '?'],\n",
              " ['is', 'not', 'bird', 'animal', '?']]"
            ]
          },
          "metadata": {
            "tags": []
          },
          "execution_count": 5
        }
      ]
    },
    {
      "cell_type": "markdown",
      "metadata": {
        "id": "PwCfa9zEtBwW"
      },
      "source": [
        "## 出力: 答え（answer）"
      ]
    },
    {
      "cell_type": "code",
      "metadata": {
        "colab": {
          "base_uri": "https://localhost:8080/"
        },
        "id": "9el-RlOMtFHd",
        "outputId": "ca143e78-b004-4475-c0fb-561e96d6a2c9"
      },
      "source": [
        "a=SentenceUnit(['Yes','Yes','No','No'])\r\n",
        "a"
      ],
      "execution_count": 6,
      "outputs": [
        {
          "output_type": "execute_result",
          "data": {
            "text/plain": [
              "[['Yes'], ['Yes'], ['No'], ['No']]"
            ]
          },
          "metadata": {
            "tags": []
          },
          "execution_count": 6
        }
      ]
    },
    {
      "cell_type": "markdown",
      "metadata": {
        "id": "-ItRn4UzvBTP"
      },
      "source": [
        "## 理由(reason)"
      ]
    },
    {
      "cell_type": "code",
      "metadata": {
        "id": "0YfJho8hvAsr"
      },
      "source": [
        "reason_m=[0,1,0,1]"
      ],
      "execution_count": 7,
      "outputs": []
    },
    {
      "cell_type": "markdown",
      "metadata": {
        "id": "mYQrNj8lMgg3"
      },
      "source": [
        "# 質問と答えのモデルで作ったBoW(エンコード)"
      ]
    },
    {
      "cell_type": "code",
      "metadata": {
        "colab": {
          "base_uri": "https://localhost:8080/"
        },
        "id": "v22KmB7_5ISG",
        "outputId": "5dde93c9-4d96-4157-ae01-40e0c429bc0c"
      },
      "source": [
        "qn_pm=[q[n]==p[reason_m[n]] for n in range(len(q))]\r\n",
        "qn_pm"
      ],
      "execution_count": 11,
      "outputs": [
        {
          "output_type": "execute_result",
          "data": {
            "text/plain": [
              "['[[1, 0], [2, 2]]',\n",
              " '[[1, 0], [2, 2]]',\n",
              " '[[2, 0], [3, 2]]',\n",
              " '[[2, 0], [3, 2]]']"
            ]
          },
          "metadata": {
            "tags": []
          },
          "execution_count": 11
        }
      ]
    },
    {
      "cell_type": "code",
      "metadata": {
        "colab": {
          "base_uri": "https://localhost:8080/"
        },
        "id": "A9G-w1lhAEoD",
        "outputId": "55545d1d-affd-4025-d690-6fc4f9e2df03"
      },
      "source": [
        "sentence.common_dict"
      ],
      "execution_count": 12,
      "outputs": [
        {
          "output_type": "execute_result",
          "data": {
            "text/plain": [
              "{'[1, 0]': 1, '[2, 0]': 3, '[2, 2]': 2, '[3, 2]': 4}"
            ]
          },
          "metadata": {
            "tags": []
          },
          "execution_count": 12
        }
      ]
    },
    {
      "cell_type": "code",
      "metadata": {
        "colab": {
          "base_uri": "https://localhost:8080/",
          "height": 173
        },
        "id": "jbpF4gy319U6",
        "outputId": "b25d1cd2-8ab9-419e-c45d-d46979f9edb3"
      },
      "source": [
        "data_dict={}\r\n",
        "for word in SentenceUnit.word_dict:\r\n",
        "    data_dict[word]=[s.count(word) for s in q]\r\n",
        "for common in sentence.common_dict:\r\n",
        "    data_dict[common]=[(1 if (common in qn_pm[n]) else 0) for n in range(len(q))]\r\n",
        "data_dict[\"a[n][0]\"]=[a[n][0] for n in range(4)]\r\n",
        "data_dict[\"a[n][1]\"]=[None for n in range(4)]\r\n",
        "data = pd.DataFrame(data_dict)\r\n",
        "data"
      ],
      "execution_count": 31,
      "outputs": [
        {
          "output_type": "execute_result",
          "data": {
            "text/html": [
              "<div>\n",
              "<style scoped>\n",
              "    .dataframe tbody tr th:only-of-type {\n",
              "        vertical-align: middle;\n",
              "    }\n",
              "\n",
              "    .dataframe tbody tr th {\n",
              "        vertical-align: top;\n",
              "    }\n",
              "\n",
              "    .dataframe thead th {\n",
              "        text-align: right;\n",
              "    }\n",
              "</style>\n",
              "<table border=\"1\" class=\"dataframe\">\n",
              "  <thead>\n",
              "    <tr style=\"text-align: right;\">\n",
              "      <th></th>\n",
              "      <th>John</th>\n",
              "      <th>is-a</th>\n",
              "      <th>human</th>\n",
              "      <th>bird</th>\n",
              "      <th>animal</th>\n",
              "      <th>is</th>\n",
              "      <th>?</th>\n",
              "      <th>not</th>\n",
              "      <th>Yes</th>\n",
              "      <th>No</th>\n",
              "      <th>[1, 0]</th>\n",
              "      <th>[2, 2]</th>\n",
              "      <th>[2, 0]</th>\n",
              "      <th>[3, 2]</th>\n",
              "      <th>a[n][0]</th>\n",
              "      <th>a[n][1]</th>\n",
              "    </tr>\n",
              "  </thead>\n",
              "  <tbody>\n",
              "    <tr>\n",
              "      <th>0</th>\n",
              "      <td>1</td>\n",
              "      <td>0</td>\n",
              "      <td>1</td>\n",
              "      <td>0</td>\n",
              "      <td>0</td>\n",
              "      <td>1</td>\n",
              "      <td>1</td>\n",
              "      <td>0</td>\n",
              "      <td>0</td>\n",
              "      <td>0</td>\n",
              "      <td>1</td>\n",
              "      <td>1</td>\n",
              "      <td>0</td>\n",
              "      <td>0</td>\n",
              "      <td>Yes</td>\n",
              "      <td>None</td>\n",
              "    </tr>\n",
              "    <tr>\n",
              "      <th>1</th>\n",
              "      <td>0</td>\n",
              "      <td>0</td>\n",
              "      <td>0</td>\n",
              "      <td>1</td>\n",
              "      <td>1</td>\n",
              "      <td>1</td>\n",
              "      <td>1</td>\n",
              "      <td>0</td>\n",
              "      <td>0</td>\n",
              "      <td>0</td>\n",
              "      <td>1</td>\n",
              "      <td>1</td>\n",
              "      <td>0</td>\n",
              "      <td>0</td>\n",
              "      <td>Yes</td>\n",
              "      <td>None</td>\n",
              "    </tr>\n",
              "    <tr>\n",
              "      <th>2</th>\n",
              "      <td>1</td>\n",
              "      <td>0</td>\n",
              "      <td>1</td>\n",
              "      <td>0</td>\n",
              "      <td>0</td>\n",
              "      <td>1</td>\n",
              "      <td>1</td>\n",
              "      <td>1</td>\n",
              "      <td>0</td>\n",
              "      <td>0</td>\n",
              "      <td>0</td>\n",
              "      <td>0</td>\n",
              "      <td>1</td>\n",
              "      <td>1</td>\n",
              "      <td>No</td>\n",
              "      <td>None</td>\n",
              "    </tr>\n",
              "    <tr>\n",
              "      <th>3</th>\n",
              "      <td>0</td>\n",
              "      <td>0</td>\n",
              "      <td>0</td>\n",
              "      <td>1</td>\n",
              "      <td>1</td>\n",
              "      <td>1</td>\n",
              "      <td>1</td>\n",
              "      <td>1</td>\n",
              "      <td>0</td>\n",
              "      <td>0</td>\n",
              "      <td>0</td>\n",
              "      <td>0</td>\n",
              "      <td>1</td>\n",
              "      <td>1</td>\n",
              "      <td>No</td>\n",
              "      <td>None</td>\n",
              "    </tr>\n",
              "  </tbody>\n",
              "</table>\n",
              "</div>"
            ],
            "text/plain": [
              "   John  is-a  human  bird  animal  ...  [2, 2]  [2, 0]  [3, 2]  a[n][0]  a[n][1]\n",
              "0     1     0      1     0       0  ...       1       0       0      Yes     None\n",
              "1     0     0      0     1       1  ...       1       0       0      Yes     None\n",
              "2     1     0      1     0       0  ...       0       1       1       No     None\n",
              "3     0     0      0     1       1  ...       0       1       1       No     None\n",
              "\n",
              "[4 rows x 16 columns]"
            ]
          },
          "metadata": {
            "tags": []
          },
          "execution_count": 31
        }
      ]
    },
    {
      "cell_type": "markdown",
      "metadata": {
        "id": "lw9EW4o-vyFK"
      },
      "source": [
        "# ナイーブベイズによる答えの導出"
      ]
    },
    {
      "cell_type": "markdown",
      "metadata": {
        "id": "vgvQuY5iwrah"
      },
      "source": [
        "## ナイーブベイズの計算過程"
      ]
    },
    {
      "cell_type": "code",
      "metadata": {
        "colab": {
          "base_uri": "https://localhost:8080/"
        },
        "id": "1oinCNHMCYp8",
        "outputId": "746d5f88-1698-4e07-a1a0-713311dfab22"
      },
      "source": [
        "an0=data['a[n][0]'].value_counts()\r\n",
        "for cat in an0.index:\r\n",
        "    catBoW=data[data['a[n][0]'].isin([cat])] # category BoW\r\n",
        "    for word in data.columns[:-2]:\r\n",
        "        print(\"p(\",word,\"|\",cat,\")p(\",cat,\")=(\",catBoW[word].sum(),\"/\",catBoW.sum(axis=1).sum(),\")*\",len(catBoW.index),\"/\",len(data.index),\"=\",(catBoW[word].sum()/catBoW.sum(axis=1).sum())*len(catBoW.index)/len(data.index))"
      ],
      "execution_count": 14,
      "outputs": [
        {
          "output_type": "stream",
          "text": [
            "p( John | No )p( No )=( 1 / 14 )* 2 / 4 = 0.03571428571428571\n",
            "p( is-a | No )p( No )=( 0 / 14 )* 2 / 4 = 0.0\n",
            "p( human | No )p( No )=( 1 / 14 )* 2 / 4 = 0.03571428571428571\n",
            "p( bird | No )p( No )=( 1 / 14 )* 2 / 4 = 0.03571428571428571\n",
            "p( animal | No )p( No )=( 1 / 14 )* 2 / 4 = 0.03571428571428571\n",
            "p( is | No )p( No )=( 2 / 14 )* 2 / 4 = 0.07142857142857142\n",
            "p( ? | No )p( No )=( 2 / 14 )* 2 / 4 = 0.07142857142857142\n",
            "p( not | No )p( No )=( 2 / 14 )* 2 / 4 = 0.07142857142857142\n",
            "p( Yes | No )p( No )=( 0 / 14 )* 2 / 4 = 0.0\n",
            "p( No | No )p( No )=( 0 / 14 )* 2 / 4 = 0.0\n",
            "p( [1, 0] | No )p( No )=( 0 / 14 )* 2 / 4 = 0.0\n",
            "p( [2, 2] | No )p( No )=( 0 / 14 )* 2 / 4 = 0.0\n",
            "p( [2, 0] | No )p( No )=( 2 / 14 )* 2 / 4 = 0.07142857142857142\n",
            "p( [3, 2] | No )p( No )=( 2 / 14 )* 2 / 4 = 0.07142857142857142\n",
            "p( John | Yes )p( Yes )=( 1 / 12 )* 2 / 4 = 0.041666666666666664\n",
            "p( is-a | Yes )p( Yes )=( 0 / 12 )* 2 / 4 = 0.0\n",
            "p( human | Yes )p( Yes )=( 1 / 12 )* 2 / 4 = 0.041666666666666664\n",
            "p( bird | Yes )p( Yes )=( 1 / 12 )* 2 / 4 = 0.041666666666666664\n",
            "p( animal | Yes )p( Yes )=( 1 / 12 )* 2 / 4 = 0.041666666666666664\n",
            "p( is | Yes )p( Yes )=( 2 / 12 )* 2 / 4 = 0.08333333333333333\n",
            "p( ? | Yes )p( Yes )=( 2 / 12 )* 2 / 4 = 0.08333333333333333\n",
            "p( not | Yes )p( Yes )=( 0 / 12 )* 2 / 4 = 0.0\n",
            "p( Yes | Yes )p( Yes )=( 0 / 12 )* 2 / 4 = 0.0\n",
            "p( No | Yes )p( Yes )=( 0 / 12 )* 2 / 4 = 0.0\n",
            "p( [1, 0] | Yes )p( Yes )=( 2 / 12 )* 2 / 4 = 0.08333333333333333\n",
            "p( [2, 2] | Yes )p( Yes )=( 2 / 12 )* 2 / 4 = 0.08333333333333333\n",
            "p( [2, 0] | Yes )p( Yes )=( 0 / 12 )* 2 / 4 = 0.0\n",
            "p( [3, 2] | Yes )p( Yes )=( 0 / 12 )* 2 / 4 = 0.0\n"
          ],
          "name": "stdout"
        }
      ]
    },
    {
      "cell_type": "code",
      "metadata": {
        "colab": {
          "base_uri": "https://localhost:8080/"
        },
        "id": "cK614HXG2FyY",
        "outputId": "66c20e5b-a35e-41fe-e3b8-9300701998dd"
      },
      "source": [
        "# 'is not John human ?'の場合\r\n",
        "list(data[2:3].loc[:,(data[2:3]!=0).any(axis=0)].columns)[:-2]"
      ],
      "execution_count": 32,
      "outputs": [
        {
          "output_type": "execute_result",
          "data": {
            "text/plain": [
              "['John', 'human', 'is', '?', 'not', '[2, 0]', '[3, 2]']"
            ]
          },
          "metadata": {
            "tags": []
          },
          "execution_count": 32
        }
      ]
    },
    {
      "cell_type": "code",
      "metadata": {
        "colab": {
          "base_uri": "https://localhost:8080/"
        },
        "id": "fq2C1QSZku5P",
        "outputId": "7ec4e1c6-239d-49f2-a478-233265882eeb"
      },
      "source": [
        "# 'is not John human ?'の場合\r\n",
        "text=list(data[2:3].loc[:,(data[2:3]!=0).any(axis=0)].columns)[:-2]\r\n",
        "for word in text:\r\n",
        "    print('p(',word,'| category=Yes)=',pword_cat(word,'Yes'))\r\n",
        "print('p(text|category=Yes.)p(category=Yes.)=',np.prod([pword_cat(wordi,'Yes') for wordi in text])*pcat('Yes'),'\\n')\r\n",
        "for word in text:\r\n",
        "    print('p(',word,'| category=No)=',pword_cat(word,'No'))\r\n",
        "print('p(text|category=No.)p(category=No.)=',np.prod([pword_cat(wordi,'No') for wordi in text])*pcat('No'))"
      ],
      "execution_count": 17,
      "outputs": [
        {
          "output_type": "stream",
          "text": [
            "p( John | category=Yes)= 0.08333333333333333\n",
            "p( human | category=Yes)= 0.08333333333333333\n",
            "p( is | category=Yes)= 0.16666666666666666\n",
            "p( ? | category=Yes)= 0.16666666666666666\n",
            "p( not | category=Yes)= 0.0\n",
            "p( [2, 0] | category=Yes)= 0.0\n",
            "p( [3, 2] | category=Yes)= 0.0\n",
            "p(text|category=Yes.)p(category=Yes.)= 0.0 \n",
            "\n",
            "p( John | category=No)= 0.07142857142857142\n",
            "p( human | category=No)= 0.07142857142857142\n",
            "p( is | category=No)= 0.14285714285714285\n",
            "p( ? | category=No)= 0.14285714285714285\n",
            "p( not | category=No)= 0.14285714285714285\n",
            "p( [2, 0] | category=No)= 0.14285714285714285\n",
            "p( [3, 2] | category=No)= 0.14285714285714285\n",
            "p(text|category=No.)p(category=No.)= 1.517832098627515e-07\n"
          ],
          "name": "stdout"
        }
      ]
    },
    {
      "cell_type": "code",
      "metadata": {
        "colab": {
          "base_uri": "https://localhost:8080/"
        },
        "id": "uFh5wQWx0_7h",
        "outputId": "1c65a697-3c7b-4b11-8fb2-bc43fbd492cc"
      },
      "source": [
        "pword_cat(word,'Yes')"
      ],
      "execution_count": 34,
      "outputs": [
        {
          "output_type": "execute_result",
          "data": {
            "text/plain": [
              "0.0"
            ]
          },
          "metadata": {
            "tags": []
          },
          "execution_count": 34
        }
      ]
    },
    {
      "cell_type": "code",
      "metadata": {
        "colab": {
          "base_uri": "https://localhost:8080/"
        },
        "id": "DYkJFb5F0rhA",
        "outputId": "0aa8943a-8889-449c-b4ad-1e5c9107dfe7"
      },
      "source": [
        "# 'is not John human ?'の場合\r\n",
        "text=list(data[2:3].loc[:,(data[2:3]!=0).any(axis=0)].columns)[:-2]\r\n",
        "for word in text:\r\n",
        "    print('p(',word,'| category=Yes)=',pword_cat(word,'Yes'))\r\n",
        "print('p(text|category=Yes.)p(category=Yes.)=',np.prod([pword_cat(wordi,'Yes') for wordi in text])*pcat('Yes'),'\\n')\r\n",
        "for word in text:\r\n",
        "    print('p(',word,'| category=No)=',pword_cat(word,'No'))\r\n",
        "print('p(text|category=No.)p(category=No.)=',np.prod([pword_cat(wordi,'No') for wordi in text])*pcat('No'))"
      ],
      "execution_count": 36,
      "outputs": [
        {
          "output_type": "stream",
          "text": [
            "p( John | category=Yes)= 0.08333333333333333\n",
            "p( human | category=Yes)= 0.08333333333333333\n",
            "p( is | category=Yes)= 0.16666666666666666\n",
            "p( ? | category=Yes)= 0.16666666666666666\n",
            "p( not | category=Yes)= 0.0\n",
            "p( [2, 0] | category=Yes)= 0.0\n",
            "p( [3, 2] | category=Yes)= 0.0\n",
            "p(text|category=Yes.)p(category=Yes.)= 0.0 \n",
            "\n",
            "p( John | category=No)= 0.07142857142857142\n",
            "p( human | category=No)= 0.07142857142857142\n",
            "p( is | category=No)= 0.14285714285714285\n",
            "p( ? | category=No)= 0.14285714285714285\n",
            "p( not | category=No)= 0.14285714285714285\n",
            "p( [2, 0] | category=No)= 0.14285714285714285\n",
            "p( [3, 2] | category=No)= 0.14285714285714285\n",
            "p(text|category=No.)p(category=No.)= 1.517832098627515e-07\n"
          ],
          "name": "stdout"
        }
      ]
    },
    {
      "cell_type": "code",
      "metadata": {
        "colab": {
          "base_uri": "https://localhost:8080/"
        },
        "id": "qyIUqS7D6Qkz",
        "outputId": "9f283738-54db-44ac-ea9d-0283b1c761bf"
      },
      "source": [
        "list(data[1:2].loc[:,(data[1:2]!=0).any(axis=0)].columns)[:-2] # 'is bird animal ?'の場合"
      ],
      "execution_count": 13,
      "outputs": [
        {
          "output_type": "execute_result",
          "data": {
            "text/plain": [
              "['bird', 'animal', 'is', '?', '[1, 0]', '[2, 2]']"
            ]
          },
          "metadata": {
            "tags": []
          },
          "execution_count": 13
        }
      ]
    },
    {
      "cell_type": "code",
      "metadata": {
        "colab": {
          "base_uri": "https://localhost:8080/"
        },
        "id": "KvdaAoT46KXo",
        "outputId": "cfa85a7b-800b-4826-a598-2431ce950e98"
      },
      "source": [
        "# 'is bird animal ?'の場合\r\n",
        "text=list(data[1:2].loc[:,(data[1:2]!=0).any(axis=0)].columns)[:-2]\r\n",
        "for word in text:\r\n",
        "    print('p(',word,'| category=Yes)=',pword_cat(word,'Yes'))\r\n",
        "print('p(text|category=Yes.)p(category=Yes.)=',np.prod([pword_cat(wordi,'Yes') for wordi in text])*pcat('Yes'),'\\n')\r\n",
        "for word in text:\r\n",
        "    print('p(',word,'| category=No)=',pword_cat(word,'No'))\r\n",
        "print('p(text|category=No.)p(category=No.)=',np.prod([pword_cat(wordi,'No') for wordi in text])*pcat('No'))"
      ],
      "execution_count": 15,
      "outputs": [
        {
          "output_type": "stream",
          "text": [
            "p( bird | category=Yes)= 0.08333333333333333\n",
            "p( animal | category=Yes)= 0.08333333333333333\n",
            "p( is | category=Yes)= 0.16666666666666666\n",
            "p( ? | category=Yes)= 0.16666666666666666\n",
            "p( [1, 0] | category=Yes)= 0.16666666666666666\n",
            "p( [2, 2] | category=Yes)= 0.16666666666666666\n",
            "p(text|category=Yes.)p(category=Yes.)= 2.679183813443072e-06 \n",
            "\n",
            "p( bird | category=No)= 0.07142857142857142\n",
            "p( animal | category=No)= 0.07142857142857142\n",
            "p( is | category=No)= 0.14285714285714285\n",
            "p( ? | category=No)= 0.14285714285714285\n",
            "p( [1, 0] | category=No)= 0.0\n",
            "p( [2, 2] | category=No)= 0.0\n",
            "p(text|category=No.)p(category=No.)= 0.0\n"
          ],
          "name": "stdout"
        }
      ]
    },
    {
      "cell_type": "markdown",
      "metadata": {
        "id": "JX2PtpJXwV1B"
      },
      "source": [
        "## ナイーブベイズによる出力"
      ]
    },
    {
      "cell_type": "code",
      "metadata": {
        "colab": {
          "base_uri": "https://localhost:8080/",
          "height": 35
        },
        "id": "v52NbcnYzER0",
        "outputId": "2cc88806-fbd6-4d57-e926-c2bfac429c5f"
      },
      "source": [
        "text=list(data[2:3].loc[:,(data[2:3]!=0).any(axis=0)].columns)[:-2] # 'is not John human ?'の場合を検証\r\n",
        "NaiveBayes_yes=np.prod([pword_cat(wordi,'Yes') for wordi in text])*pcat('Yes')\r\n",
        "NaiveBayes_no=np.prod([pword_cat(wordi,'No') for wordi in text])*pcat('No')\r\n",
        "if NaiveBayes_yes>NaiveBayes_no:\r\n",
        "    NaiveBayes_ans='Yes'\r\n",
        "else:\r\n",
        "    NaiveBayes_ans='No'\r\n",
        "\r\n",
        "NaiveBayes_ans"
      ],
      "execution_count": 39,
      "outputs": [
        {
          "output_type": "execute_result",
          "data": {
            "application/vnd.google.colaboratory.intrinsic+json": {
              "type": "string"
            },
            "text/plain": [
              "'No'"
            ]
          },
          "metadata": {
            "tags": []
          },
          "execution_count": 39
        }
      ]
    },
    {
      "cell_type": "code",
      "metadata": {
        "colab": {
          "base_uri": "https://localhost:8080/",
          "height": 35
        },
        "id": "Lw1KdLNy6G2C",
        "outputId": "aa8f81ba-5180-461c-d6db-332fcacf0924"
      },
      "source": [
        "text=list(data[1:2].loc[:,(data[1:2]!=0).any(axis=0)].columns)[:-2] # 'is bird animal ?'の場合を検証\r\n",
        "NaiveBayes_yes=np.prod([pword_cat(wordi,'Yes') for wordi in text])*pcat('Yes')\r\n",
        "NaiveBayes_no=np.prod([pword_cat(wordi,'No') for wordi in text])*pcat('No')\r\n",
        "if NaiveBayes_yes>NaiveBayes_no:\r\n",
        "    NaiveBayes_ans='Yes'\r\n",
        "else:\r\n",
        "    NaiveBayes_ans='No'\r\n",
        "\r\n",
        "NaiveBayes_ans"
      ],
      "execution_count": 16,
      "outputs": [
        {
          "output_type": "execute_result",
          "data": {
            "application/vnd.google.colaboratory.intrinsic+json": {
              "type": "string"
            },
            "text/plain": [
              "'Yes'"
            ]
          },
          "metadata": {
            "tags": []
          },
          "execution_count": 16
        }
      ]
    },
    {
      "cell_type": "markdown",
      "metadata": {
        "id": "CJNGE9Eq32bA"
      },
      "source": [
        "# 学習から検証までをすべてまとめる"
      ]
    },
    {
      "cell_type": "code",
      "metadata": {
        "colab": {
          "base_uri": "https://localhost:8080/",
          "height": 35
        },
        "id": "QJqV6Mnc4IPf",
        "outputId": "b4f09604-340b-4c16-e7af-30aed6ae9332"
      },
      "source": [
        "# 共通部分\r\n",
        "qn_pm=[q[n]==p[reason_m[n]] for n in range(len(q))] \r\n",
        "\r\n",
        "# BoW(エンコード)\r\n",
        "data_dict={}\r\n",
        "for word in SentenceUnit.word_dict:\r\n",
        "    data_dict[word]=[s.count(word) for s in q]\r\n",
        "for common in sentence.common_dict:\r\n",
        "    data_dict[common]=[(1 if (common in qn_pm[n]) else 0) for n in range(len(q))]\r\n",
        "data_dict[\"a[n][0]\"]=[a[n][0] for n in range(4)]\r\n",
        "data_dict[\"a[n][1]\"]=[None for n in range(4)]\r\n",
        "data = pd.DataFrame(data_dict) \r\n",
        "\r\n",
        "text=list(data[2:3].loc[:,(data[2:3]!=0).any(axis=0)].columns)[:-2] # 'is not John human ?'の場合を検証\r\n",
        "\r\n",
        "# ナイーブベイズ\r\n",
        "NaiveBayes_yes=np.prod([pword_cat(wordi,'Yes') for wordi in text])*pcat('Yes')\r\n",
        "NaiveBayes_no=np.prod([pword_cat(wordi,'No') for wordi in text])*pcat('No')\r\n",
        "if NaiveBayes_yes>NaiveBayes_no:\r\n",
        "    NaiveBayes_ans='Yes'\r\n",
        "else:\r\n",
        "    NaiveBayes_ans='No'\r\n",
        "\r\n",
        "NaiveBayes_ans"
      ],
      "execution_count": 9,
      "outputs": [
        {
          "output_type": "execute_result",
          "data": {
            "application/vnd.google.colaboratory.intrinsic+json": {
              "type": "string"
            },
            "text/plain": [
              "'No'"
            ]
          },
          "metadata": {
            "tags": []
          },
          "execution_count": 9
        }
      ]
    }
  ]
}