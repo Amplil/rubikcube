{
 "cells": [
  {
   "cell_type": "code",
   "execution_count": 2,
   "metadata": {},
   "outputs": [
    {
     "output_type": "execute_result",
     "data": {
      "text/plain": "['is John human ?', 'is bird animal ?', 'is not John human ?']"
     },
     "metadata": {},
     "execution_count": 2
    }
   ],
   "source": [
    "['is John human ?','is bird animal ?','is not John human ?']"
   ]
  },
  {
   "cell_type": "code",
   "execution_count": 1,
   "metadata": {},
   "outputs": [],
   "source": [
    "question=['is John human ?'.split(),'is bird animal ?'.split(),'is not John human ?'.split()]"
   ]
  },
  {
   "cell_type": "code",
   "execution_count": 1,
   "metadata": {},
   "outputs": [
    {
     "output_type": "execute_result",
     "data": {
      "text/plain": "[['is', 'John', 'human', '?'],\n ['is', 'bird', 'animal', '?'],\n ['is', 'not', 'John', 'human', '?']]"
     },
     "metadata": {},
     "execution_count": 1
    }
   ],
   "source": [
    "['is John human ?'.split(),'is bird animal ?'.split(),'is not John human ?'.split()]"
   ]
  },
  {
   "cell_type": "code",
   "execution_count": 2,
   "metadata": {},
   "outputs": [
    {
     "output_type": "execute_result",
     "data": {
      "text/plain": "['Yes.']"
     },
     "metadata": {},
     "execution_count": 2
    }
   ],
   "source": [
    "'Yes.'.split()"
   ]
  },
  {
   "cell_type": "code",
   "execution_count": null,
   "metadata": {},
   "outputs": [],
   "source": []
  }
 ],
 "metadata": {
  "language_info": {
   "codemirror_mode": {
    "name": "ipython",
    "version": 3
   },
   "file_extension": ".py",
   "mimetype": "text/x-python",
   "name": "python",
   "nbconvert_exporter": "python",
   "pygments_lexer": "ipython3",
   "version": 3
  },
  "orig_nbformat": 2,
  "kernelspec": {
   "name": "python_defaultSpec_1595780282384",
   "display_name": "Python 3.5.3 64-bit"
  }
 },
 "nbformat": 4,
 "nbformat_minor": 2
}